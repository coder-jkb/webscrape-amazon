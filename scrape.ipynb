{
 "cells": [
  {
   "cell_type": "markdown",
   "metadata": {},
   "source": [
    "## Import essential modules/libraries"
   ]
  },
  {
   "cell_type": "code",
   "execution_count": 5,
   "metadata": {},
   "outputs": [
    {
     "name": "stdout",
     "output_type": "stream",
     "text": [
      "Collecting webdriver-managerNote: you may need to restart the kernel to use updated packages.\n"
     ]
    },
    {
     "name": "stderr",
     "output_type": "stream",
     "text": [
      "\n",
      "[notice] A new release of pip available: 22.3.1 -> 23.1.2\n",
      "[notice] To update, run: python.exe -m pip install --upgrade pip\n"
     ]
    },
    {
     "name": "stdout",
     "output_type": "stream",
     "text": [
      "\n",
      "  Downloading webdriver_manager-3.8.6-py2.py3-none-any.whl (27 kB)\n",
      "Collecting python-dotenv\n",
      "  Downloading python_dotenv-1.0.0-py3-none-any.whl (19 kB)\n",
      "Requirement already satisfied: requests in c:\\users\\jay\\appdata\\local\\programs\\python\\python39\\lib\\site-packages (from webdriver-manager) (2.21.0)\n",
      "Requirement already satisfied: tqdm in c:\\users\\jay\\appdata\\local\\programs\\python\\python39\\lib\\site-packages (from webdriver-manager) (4.62.3)\n",
      "Requirement already satisfied: packaging in c:\\users\\jay\\appdata\\roaming\\python\\python39\\site-packages (from webdriver-manager) (23.0)\n",
      "Requirement already satisfied: chardet<3.1.0,>=3.0.2 in c:\\users\\jay\\appdata\\local\\programs\\python\\python39\\lib\\site-packages (from requests->webdriver-manager) (3.0.4)\n",
      "Requirement already satisfied: idna<2.9,>=2.5 in c:\\users\\jay\\appdata\\local\\programs\\python\\python39\\lib\\site-packages (from requests->webdriver-manager) (2.8)\n",
      "Requirement already satisfied: certifi>=2017.4.17 in c:\\users\\jay\\appdata\\local\\programs\\python\\python39\\lib\\site-packages (from requests->webdriver-manager) (2022.6.15)\n",
      "Requirement already satisfied: urllib3<1.25,>=1.21.1 in c:\\users\\jay\\appdata\\local\\programs\\python\\python39\\lib\\site-packages (from requests->webdriver-manager) (1.24.3)\n",
      "Requirement already satisfied: colorama in c:\\users\\jay\\appdata\\roaming\\python\\python39\\site-packages (from tqdm->webdriver-manager) (0.4.6)\n",
      "Installing collected packages: python-dotenv, webdriver-manager\n",
      "Successfully installed python-dotenv-1.0.0 webdriver-manager-3.8.6\n"
     ]
    }
   ],
   "source": [
    "%pip install webdriver-manager"
   ]
  },
  {
   "cell_type": "code",
   "execution_count": 1,
   "metadata": {},
   "outputs": [],
   "source": [
    "import csv\n",
    "from selenium import webdriver\n",
    "from selenium.webdriver.common.by import By\n",
    "from selenium.webdriver.chrome.service import Service\n",
    "from webdriver_manager.chrome import ChromeDriverManager\n",
    "from selenium.webdriver.chrome.options import Options"
   ]
  },
  {
   "attachments": {},
   "cell_type": "markdown",
   "metadata": {},
   "source": [
    "## Function to launch browser and get a given link"
   ]
  },
  {
   "cell_type": "code",
   "execution_count": 2,
   "metadata": {},
   "outputs": [],
   "source": [
    "def launch_chrome(link, headless=False):\n",
    "    ops = Options() # create object of Options\n",
    "    \n",
    "    if headless:\n",
    "        ops.add_argument('--headless') # headless browser testing \n",
    "\n",
    "    # prevents browser from closing when function is returned\n",
    "    ops.add_experimental_option(\"detach\", True)\n",
    "\n",
    "    driver = webdriver.Chrome(options=ops,  service=Service(ChromeDriverManager().install()))\n",
    "\n",
    "    driver.get(link)\n",
    "    return driver"
   ]
  },
  {
   "attachments": {},
   "cell_type": "markdown",
   "metadata": {},
   "source": [
    "Flow:\n",
    "1. open link: https://www.amazon.in/s?rh=n%3A6612025031&fs=true&ref=lp_6612025031_sar\n",
    "2. Get links to page 1 to 257\n",
    "3. For each page:\n",
    "4.  get link to product:\n",
    "5. In product page scrape details of \n",
    "    \"Product Name\", \"Price\", \"Rating\", \"Seller Name\" using the respective xpaths\n",
    "6. Store in csv"
   ]
  },
  {
   "cell_type": "code",
   "execution_count": 9,
   "metadata": {},
   "outputs": [],
   "source": [
    "def get_link_divs(driver): # returns list of \n",
    "    parent_div = driver.find_element(By.XPATH, '//*[@id=\"search\"]/div[1]/div[1]/div/span[1]/div[1]')\n",
    "\n",
    "    return parent_div.find_elements(By.XPATH, './/div/div/div/div/div/div/div/h2/a')\n"
   ]
  },
  {
   "attachments": {},
   "cell_type": "markdown",
   "metadata": {},
   "source": [
    "## Function to get data from each product link"
   ]
  },
  {
   "cell_type": "code",
   "execution_count": 19,
   "metadata": {},
   "outputs": [],
   "source": [
    "# xpath to the required html elements\n",
    "paths = {\n",
    "    'title': '//*[@id=\"productTitle\"]',\n",
    "    'price': 'a-price-whole',\n",
    "    'rating': '//*[@id=\"acrPopover\"]/span[1]/a/span',\n",
    "    'availability': '//*[@id=\"availability_feature_div\"]',\n",
    "    'seller': '//*[@id=\"merchant-info\"]/a[1]/span'\n",
    "}\n",
    "\n",
    "def get_data(driver):\n",
    "    title = driver.find_element(By.XPATH, paths['title']).text\n",
    "    rating = driver.find_element(By.XPATH, paths['rating']).text\n",
    "\n",
    "    # unavailable has text 'Currently unavailable.' when out of stock hence positive length\n",
    "    unavailable = len(driver.find_element(By.XPATH, paths['availability']).text) > 0\n",
    "    available = not unavailable\n",
    "\n",
    "    if available:\n",
    "        price = driver.find_element(By.CLASS_NAME, paths['price']).text\n",
    "        seller = driver.find_element(By.XPATH, paths['seller']).text\n",
    "\n",
    "    else:\n",
    "        price, seller = None, None\n",
    "    \n",
    "    print(title[:10], ' | ' ,rating, ' | ' ,available, ' | ' ,price, ' | ' ,seller)\n",
    "    return (title, rating, available, price, seller)"
   ]
  },
  {
   "cell_type": "code",
   "execution_count": null,
   "metadata": {},
   "outputs": [],
   "source": [
    "tdriver = launch_chrome('https://www.amazon.in/MI-Lithium-Wireless-10000mAh-Charging/dp/B0BC1SCV6K/ref=sr_1_25?qid=1685635841&s=electronics&sr=1-25')\n",
    "get_data(tdriver)\n",
    "tdriver.quit()"
   ]
  },
  {
   "cell_type": "code",
   "execution_count": 20,
   "metadata": {},
   "outputs": [],
   "source": [
    "def scrape_pages(i, j):\n",
    "    # create csv file\n",
    "    with open('amazon.csv', 'a', encoding='utf8', newline='') as csv_file:\n",
    "        keys = ['page_no', 'num', 'title', 'rating', 'available',\n",
    "                'price', 'seller', 'page_link', 'product_link']\n",
    "\n",
    "        dict_writer = csv.DictWriter(csv_file, keys)\n",
    "        # dict_writer.writeheader() # add header\n",
    "\n",
    "        for page_no in range(i, j):  # For each page 1 to 275\n",
    "            page_link = f\"https://www.amazon.in/s?i=electronics&rh=n%3A6612025031&fs=true&page={page_no}&qid=1685600480&ref=sr_pg_{page_no}\"\n",
    "\n",
    "            # launch headless browser\n",
    "            driver = launch_chrome(page_link, headless=True)\n",
    "            print('On page: ', page_link)\n",
    "\n",
    "            anchor_tags = get_link_divs(driver)\n",
    "\n",
    "            print(\"Products on this page: \",len(anchor_tags))\n",
    "\n",
    "            for num, a in enumerate(anchor_tags):\n",
    "\n",
    "                # lauch another driver called product (i.ie. link to the product)\n",
    "                link = a.get_attribute('href')\n",
    "                product = launch_chrome(link, headless=True)\n",
    "\n",
    "                print('No. ', num, 'Product: ', link)\n",
    "                title, rating, available, price, seller = get_data(product)\n",
    "                data = {'page_no': page_no,\n",
    "                        'num': num,\n",
    "                        'title': title,\n",
    "                        'rating': rating,\n",
    "                        'available': available,\n",
    "                        'price': price,\n",
    "                        'seller': seller,\n",
    "                        'page_link': page_link,\n",
    "                        'product_link': link}\n",
    "\n",
    "                # add row in csv file\n",
    "                dict_writer.writerow(data)\n",
    "\n",
    "                product.quit() # close the respective drivers\n",
    "\n",
    "            driver.quit()\n"
   ]
  },
  {
   "cell_type": "code",
   "execution_count": 7,
   "metadata": {},
   "outputs": [
    {
     "name": "stdout",
     "output_type": "stream",
     "text": [
      "On page:  https://www.amazon.in/s?i=electronics&rh=n%3A6612025031&fs=true&page=1&qid=1685600480&ref=sr_pg_1\n",
      "No.  0 Product:  https://www.amazon.in/20000mAh-Sandstone-Triple-Charging-Delivery/dp/B08HV83HL3/ref=sr_1_1?qid=1685610088&s=electronics&sr=1-1\n",
      ">>  MI Power B 4.2 True 2,149 Cocoblu Retail\n",
      "No.  1 Product:  https://www.amazon.in/10000mAH-Li-Polymer-Power-Charging-Midnight/dp/B08HVL8QN3/ref=sr_1_2?qid=1685610088&s=electronics&sr=1-2\n",
      ">>  Mi 10000mA 4.2 True 1,299 Cocoblu Retail\n",
      "No.  2 Product:  https://www.amazon.in/Pocket-10000mAh-Triple-Charging-Delivery/dp/B08MC57J31/ref=sr_1_3?qid=1685610088&s=electronics&sr=1-3\n",
      ">>  MI 10000mA 4.3 True 1,699 Cocoblu Retail\n",
      "No.  3 Product:  https://www.amazon.in/Ambrane-Multi-Layer-Protection-Li-Polymer-Stylo-10k/dp/B0993BB11X/ref=sr_1_4?qid=1685610088&s=electronics&sr=1-4\n",
      ">>  Ambrane 10 3.9 True 999 Cocoblu Retail\n",
      "No.  4 Product:  https://www.amazon.in/Ambrane-20000mAh-Lithium-Polymer-Stylo-20K/dp/B07RD611Z8/ref=sr_1_5?qid=1685610088&s=electronics&sr=1-5\n",
      ">>  Ambrane 20 4.0 True 1,899 Cocoblu Retail\n",
      "No.  5 Product:  https://www.amazon.in/Power-10000mAh-Metallic-Output-Charging/dp/B08HVJCW95/ref=sr_1_6?qid=1685610088&s=electronics&sr=1-6\n",
      ">>  MI 10000mA 4.2 True 1,299 Cocoblu Retail\n",
      "No.  6 Product:  https://www.amazon.in/Ambrane-Multi-Layer-Protection-Li-Polymer-Stylo-20k/dp/B09MZDVQCC/ref=sr_1_7?qid=1685610088&s=electronics&sr=1-7\n",
      ">>  Ambrane 20 4.0 True 1,899 Cocoblu Retail\n",
      "No.  7 Product:  https://www.amazon.in/Ambrane-Multi-Layer-Protection-Li-Polymer-Stylo/dp/B098QXR9X2/ref=sr_1_8?qid=1685610088&s=electronics&sr=1-8\n",
      ">>  Ambrane 27 4.1 True 2,499 Cocoblu Retail\n",
      "No.  8 Product:  https://www.amazon.in/Ambrane-Multi-Layer-Protection-Li-Polymer-Stylo-10k/dp/B09MZCQYHZ/ref=sr_1_9?qid=1685610088&s=electronics&sr=1-9\n",
      ">>  Ambrane 10 3.9 True 999 Cocoblu Retail\n",
      "No.  9 Product:  https://www.amazon.in/SYSKA-Charging-High-Energy-Density-Polymer/dp/B08XXN8CNS/ref=sr_1_10?qid=1685610088&s=electronics&sr=1-10\n",
      ">>  SYSKA Powe 3.8 True 899 Cocoblu Retail\n",
      "No.  10 Product:  https://www.amazon.in/URBN-20000-22-5W-Charging-Output/dp/B08JW1GVS7/ref=sr_1_11?qid=1685610088&s=electronics&sr=1-11\n",
      ">>  URBN 20000 4.0 True 1,999 Cocoblu Retail\n",
      "No.  11 Product:  https://www.amazon.in/Ambrane-Multi-Layer-Protection-Li-Polymer-Stylo-20k/dp/B09779CSV6/ref=sr_1_12?qid=1685610088&s=electronics&sr=1-12\n",
      ">>  Ambrane 20 4.0 True 1,899 Cocoblu Retail\n",
      "No.  12 Product:  https://www.amazon.in/URBN-Li-Polymer-Heroes-Compact-Certification/dp/B07X83RT1K/ref=sr_1_13?qid=1685610088&s=electronics&sr=1-13\n",
      ">>  URBN 10000 3.9 True 999 Cocoblu Retail\n",
      "No.  13 Product:  https://www.amazon.in/Duracell-Technology-Smartphones-Headphones-USB-Powered/dp/B0BJV59X3P/ref=sr_1_14?qid=1685610088&s=electronics&sr=1-14\n",
      ">>  Duracell P 3.9 True 1,682 Cocoblu Retail\n",
      "No.  14 Product:  https://www.amazon.in/Ambrane-Multi-Layer-Protection-Li-Polymer-Stylo-10k/dp/B09CTV93G5/ref=sr_1_15?qid=1685610088&s=electronics&sr=1-15\n",
      ">>  Ambrane 10 3.9 True 999 Cocoblu Retail\n",
      "No.  15 Product:  https://www.amazon.in/Ambrane-10000mAh-Magnetic-Wireless-Li-Polymer/dp/B0BLZ2K1Z8/ref=sr_1_16?qid=1685610088&s=electronics&sr=1-16\n",
      ">>  Ambrane 10 3.1 True 1,999 Cocoblu Retail\n",
      "No.  16 Product:  https://www.amazon.in/Redmi-20000mAh-Li-Polymer-Power-Charging/dp/B0851WWXJC/ref=sr_1_17?qid=1685610088&s=electronics&sr=1-17\n",
      ">>  Redmi 2000 4.2 True 2,049 Cocoblu Retail\n",
      "No.  17 Product:  https://www.amazon.in/Power-Bank-Boost-Pro-30000mAh/dp/B09GW3R124/ref=sr_1_18?qid=1685610088&s=electronics&sr=1-18\n",
      ">>  Mi Power B 4.2 True 3,499 Cocoblu Retail\n",
      "No.  18 Product:  https://www.amazon.in/Spigen-Lithium-Polymer-Wireless-Charging/dp/B09K3H4FQB/ref=sr_1_19?qid=1685610088&s=electronics&sr=1-19\n",
      ">>  Spigen 3in 3.9 True 2,499 Spigen India\n",
      "No.  19 Product:  https://www.amazon.in/20000mAh-Lithium-Polymer-Charging-Metallic/dp/B09X5SSNFV/ref=sr_1_20?qid=1685610088&s=electronics&sr=1-20\n",
      ">>  Amazon Bas 3.8 True 1,499 Appario Retail Private Ltd\n",
      "No.  20 Product:  https://www.amazon.in/URBN-20000-Li-Polymer-Compact-Charge/dp/B08HF4W2CT/ref=sr_1_21?qid=1685610088&s=electronics&sr=1-21\n",
      ">>  URBN 20000 3.9 True 1,598 Cocoblu Retail\n",
      "No.  21 Product:  https://www.amazon.in/URBN-20000-22-5W-Charging-Output/dp/B08JVY7QYC/ref=sr_1_22?qid=1685610088&s=electronics&sr=1-22\n",
      ">>  URBN 20000 4.0 True 1,999 Cocoblu Retail\n",
      "No.  22 Product:  https://www.amazon.in/URBN-Li-Polymer-Charge-Compact-Certification/dp/B07X963JNS/ref=sr_1_23?qid=1685610088&s=electronics&sr=1-23\n",
      ">>  URBN 10000 3.9 True 1,049 Cocoblu Retail\n",
      "No.  23 Product:  https://www.amazon.in/Redmi-10000-Charging-Power-Black/dp/B0851WMSDS/ref=sr_1_24?qid=1685610088&s=electronics&sr=1-24\n",
      ">>  Redmi Lith 4.2 True 1,199 Cocoblu Retail\n"
     ]
    }
   ],
   "source": [
    "scrape_pages(1, 2)"
   ]
  },
  {
   "cell_type": "code",
   "execution_count": 21,
   "metadata": {},
   "outputs": [
    {
     "name": "stdout",
     "output_type": "stream",
     "text": [
      "On page:  https://www.amazon.in/s?i=electronics&rh=n%3A6612025031&fs=true&page=2&qid=1685600480&ref=sr_pg_2\n",
      "Products on this page:  24\n",
      "No.  0 Product:  https://www.amazon.in/Redmi-10000-Charging-Power-Black/dp/B0851WMSDS/ref=sr_1_25?qid=1685637217&s=electronics&sr=1-25\n",
      "Redmi Lith  |  4.2  |  True  |  1,199  |  Cocoblu Retail\n",
      "No.  1 Product:  https://www.amazon.in/MI-Lithium-Wireless-10000mAh-Charging/dp/B0BC1SCV6K/ref=sr_1_26?qid=1685637217&s=electronics&sr=1-26\n",
      "MI Lithium  |  4.0  |  True  |  2,499  |  Cocoblu Retail\n",
      "No.  2 Product:  https://www.amazon.in/Belkin-Charges-Devices-simultaneously-Samsung/dp/B092TNMFYB/ref=sr_1_27?qid=1685637217&s=electronics&sr=1-27\n",
      "Belkin 100  |  4.2  |  True  |  1,699  |  Cocoblu Retail\n",
      "No.  3 Product:  https://www.amazon.in/10000mAH-Lithium-Polymer-Charging-Included/dp/B09X5SPFZ2/ref=sr_1_28?qid=1685637217&s=electronics&sr=1-28\n",
      "Amazon Bas  |  3.8  |  True  |  1,199  |  Appario Retail Private Ltd\n",
      "No.  4 Product:  https://www.amazon.in/URBN-Li-Polymer-Charge-Compact-Certification/dp/B07X6JCTR2/ref=sr_1_29?qid=1685637217&s=electronics&sr=1-29\n",
      "URBN 20000  |  3.9  |  True  |  1,599  |  Cocoblu Retail\n",
      "No.  5 Product:  https://www.amazon.in/Spigen-Wireless-Charging-Included-Lithium/dp/B0C5D9734Q/ref=sr_1_30?qid=1685637217&s=electronics&sr=1-30\n",
      "Spigen 3in  |  3.9  |  True  |  2,499  |  Spigen India\n",
      "No.  6 Product:  https://www.amazon.in/Portronics-Power-PRO-10K-Emergency/dp/B08PZ67MMY/ref=sr_1_31?qid=1685637217&s=electronics&sr=1-31\n",
      "Portronics  |  3.7  |  True  |  799  |  Cocoblu Retail\n",
      "No.  7 Product:  https://www.amazon.in/Ambrane-Li-Polymer-Powerbank-Charging-Metallic/dp/B09YDH5ZQ1/ref=sr_1_32?qid=1685637217&s=electronics&sr=1-32\n",
      "Ambrane 50  |  4.1  |  True  |  4,417  |  Cocoblu Retail\n",
      "No.  8 Product:  https://www.amazon.in/Redmi-20000mAh-Li-Polymer-Power-Charging/dp/B0851WTJ6P/ref=sr_1_33?qid=1685637217&s=electronics&sr=1-33\n",
      "Redmi 2000  |  4.2  |  True  |  2,049  |  Cocoblu Retail\n",
      "No.  9 Product:  https://www.amazon.in/Ambrane-20000mAh-Li-Polymer-Smartphones-XL/dp/B0B41ZT2CL/ref=sr_1_34?qid=1685637217&s=electronics&sr=1-34\n",
      "Ambrane 20  |  3.9  |  True  |  2,493  |  Cocoblu Retail\n",
      "No.  10 Product:  https://www.amazon.in/URBN-Power-Bank-Wireless-Charging/dp/B0BYZJ4QY7/ref=sr_1_35?qid=1685637217&s=electronics&sr=1-35\n",
      "URBN 5000   |  2.2  |  True  |  2,499  |  Cocoblu Retail\n",
      "No.  11 Product:  https://www.amazon.in/URBN-Premium-Charging-Smallest-Delivery/dp/B0BXSTYMZ7/ref=sr_1_36?qid=1685637217&s=electronics&sr=1-36\n",
      "URBN 20000  |  4.1  |  True  |  2,399  |  Cocoblu Retail\n",
      "No.  12 Product:  https://www.amazon.in/URBN-Li-Polymer-Compact-Charge-Purple/dp/B08HF1XR7J/ref=sr_1_37?qid=1685637217&s=electronics&sr=1-37\n",
      "URBN 10000  |  3.9  |  True  |  999  |  Cocoblu Retail\n",
      "No.  13 Product:  https://www.amazon.in/URBN-Lithium_ion-Premium-Charging-Smallest/dp/B0B4DHY4DJ/ref=sr_1_38?qid=1685637217&s=electronics&sr=1-38\n",
      "URBN 10000  |  4.1  |  True  |  1,649  |  Cocoblu Retail\n",
      "No.  14 Product:  https://www.amazon.in/Ambrane-10000mAh-Powerbank-Charging-Li-Polymer/dp/B0BYVH465B/ref=sr_1_39?qid=1685637217&s=electronics&sr=1-39\n",
      "Ambrane 10  |  4.6  |  True  |  1,599  |  Cocoblu Retail\n",
      "No.  15 Product:  https://www.amazon.in/Belkin-Charges-Devices-simultaneously-Samsung/dp/B092TN8FWV/ref=sr_1_40?qid=1685637217&s=electronics&sr=1-40\n",
      "Belkin 100  |  4.2  |  True  |  1,899  |  Cocoblu Retail\n",
      "No.  16 Product:  https://www.amazon.in/Ambrane-10000mAh-Powerbank-Charging-Li-Polymer/dp/B0BYVG5C38/ref=sr_1_41?qid=1685637217&s=electronics&sr=1-41\n",
      "Ambrane 10  |  4.6  |  True  |  1,599  |  Cocoblu Retail\n",
      "No.  17 Product:  https://www.amazon.in/Ambrane-Capsule-20-Black/dp/B0B59M8JQX/ref=sr_1_42?qid=1685637217&s=electronics&sr=1-42\n",
      "Ambrane 20  |  3.6  |  True  |  1,399  |  Cocoblu Retail\n",
      "No.  18 Product:  https://www.amazon.in/URBN-Charging-Lithium_ion-Delivery-Included/dp/B0B4DHLVTQ/ref=sr_1_43?qid=1685637217&s=electronics&sr=1-43\n",
      "URBN 10000  |  4.1  |  True  |  1,599  |  Cocoblu Retail\n",
      "No.  19 Product:  https://www.amazon.in/Portronics-Indicators-Charging-Mobile-Devices/dp/B09RMH5LXH/ref=sr_1_44?qid=1685637217&s=electronics&sr=1-44\n",
      "Portronics  |  3.4  |  True  |  749  |  Cocoblu Retail\n",
      "No.  20 Product:  https://www.amazon.in/URBN-Premium-Charging-Delivery-Two-Way/dp/B0BXSR4ZBD/ref=sr_1_45?qid=1685637217&s=electronics&sr=1-45\n",
      "URBN 20000  |  4.1  |  True  |  2,599  |  Cocoblu Retail\n",
      "No.  21 Product:  https://www.amazon.in/Redmi-10000-Charging-Power-White/dp/B0851WN735/ref=sr_1_46?qid=1685637217&s=electronics&sr=1-46\n",
      "Redmi 1000  |  4.2  |  True  |  1,199  |  Cocoblu Retail\n",
      "No.  22 Product:  https://www.amazon.in/CALLMATE-Portable-Charger-Li-Polymer-Digital/dp/B08PDC4ZYH/ref=sr_1_47?qid=1685637217&s=electronics&sr=1-47\n",
      "Callmate 2  |  3.1  |  True  |  1,199  |  Cocoblu Retail\n",
      "No.  23 Product:  https://www.amazon.in/URBN-Charging-Compact-Delivery-Speakers/dp/B0BN1DG7HZ/ref=sr_1_48?qid=1685637217&s=electronics&sr=1-48\n",
      "URBN 27000  |  4.0  |  True  |  4,299  |  Cocoblu Retail\n"
     ]
    }
   ],
   "source": [
    "scrape_pages(2, 3)"
   ]
  }
 ],
 "metadata": {
  "kernelspec": {
   "display_name": "Python 3",
   "language": "python",
   "name": "python3"
  },
  "language_info": {
   "codemirror_mode": {
    "name": "ipython",
    "version": 3
   },
   "file_extension": ".py",
   "mimetype": "text/x-python",
   "name": "python",
   "nbconvert_exporter": "python",
   "pygments_lexer": "ipython3",
   "version": "3.9.1"
  },
  "orig_nbformat": 4
 },
 "nbformat": 4,
 "nbformat_minor": 2
}
